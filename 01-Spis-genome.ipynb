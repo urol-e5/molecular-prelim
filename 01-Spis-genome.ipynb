{
 "cells": [
  {
   "cell_type": "markdown",
   "metadata": {},
   "source": [
    "http://spis.reefgenomics.org/download/"
   ]
  },
  {
   "cell_type": "code",
   "execution_count": 1,
   "metadata": {},
   "outputs": [
    {
     "name": "stdout",
     "output_type": "stream",
     "text": [
      ">Spis.scaffold1|size2969787\n"
     ]
    }
   ],
   "source": [
    "!head -1 data/Spis.genome.scaffold.final.fa"
   ]
  },
  {
   "cell_type": "code",
   "execution_count": 2,
   "metadata": {},
   "outputs": [
    {
     "name": "stdout",
     "output_type": "stream",
     "text": [
      "5688\n"
     ]
    }
   ],
   "source": [
    "!grep -c \">\" data/Spis.genome.scaffold.final.fa"
   ]
  },
  {
   "cell_type": "code",
   "execution_count": 4,
   "metadata": {},
   "outputs": [
    {
     "name": "stdout",
     "output_type": "stream",
     "text": [
      "# ORIGINAL: Spis25634 original gene structure, not modified by PASA\n",
      "Spis.scaffold4759|size1198\tAUGUSTUS\tgene\t115\t927\t.\t+\t.\tID=SpisGene25634;Name=SpisGene25634\n",
      "Spis.scaffold4759|size1198\tAUGUSTUS\tmRNA\t115\t927\t.\t+\t.\tID=Spis25634;Parent=SpisGene25634;Name=Spis25634\n",
      "Spis.scaffold4759|size1198\tAUGUSTUS\texon\t115\t532\t.\t+\t.\tID=Spis25634.exon1;Parent=Spis25634\n",
      "Spis.scaffold4759|size1198\tAUGUSTUS\tCDS\t115\t532\t.\t+\t0\tID=cds.Spis25634;Parent=Spis25634\n",
      "Spis.scaffold4759|size1198\tAUGUSTUS\texon\t638\t927\t.\t+\t.\tID=Spis25634.exon2;Parent=Spis25634\n",
      "Spis.scaffold4759|size1198\tAUGUSTUS\tCDS\t638\t927\t.\t+\t2\tID=cds.Spis25634;Parent=Spis25634\n",
      "#PROT Spis25634 SpisGene25634\tMSYNKLGLFHKQLGDLKQAKDFHERALDVRLKKLGPKHVSVAMPYNNLALIHEQLGDLKQAKHFHERALDVKLKKLGREHLDVAMSHNNLGLVHRQLGDLKQAKDCHEQALAVQLKKLGPEHLFVAMSYNNLGLVHEQLGLVHSRLDDLKQAKDCNERTLDVCLKVLGSEHVYVADTYKNLGAVYNYLGLIQEAIQCYDHALAIYVKNVGLEDDQVREIRSGFAFSATAGKRENK*\n",
      "\n",
      "# ORIGINAL: Spis23822 original gene structure, not modified by PASA\n"
     ]
    }
   ],
   "source": [
    "!head data/*gff3"
   ]
  },
  {
   "cell_type": "code",
   "execution_count": 6,
   "metadata": {},
   "outputs": [
    {
     "name": "stdout",
     "output_type": "stream",
     "text": [
      "\n",
      "Spis.scaffold1|size2969787\t2969787\n",
      "Spis.scaffold2|size2439915\t2439915\n",
      "Spis.scaffold3|size2404842\t2404842\n",
      "Spis.scaffold4|size2353699\t2353699\n",
      "Spis.scaffold5|size2105177\t2105177\n",
      "Spis.scaffold6|size2077585\t2077585\n",
      "Spis.scaffold7|size1930160\t1930160\n",
      "Spis.scaffold8|size1762381\t1762381\n",
      "Spis.scaffold9|size1734603\t1734603\n",
      "awk: write error on stdout\n",
      " input record number 1881, file data/Spis.genome.scaffold.final.fa\n",
      " source line number 1\n"
     ]
    }
   ],
   "source": [
    "!awk '$0 ~ \">\" {print c; c=0;printf substr($0,2,100) \"\\t\"; } $0 !~ \">\" {c+=length($0);} END { print c; }' \\\n",
    "data/Spis.genome.scaffold.final.fa | head\n"
   ]
  },
  {
   "cell_type": "code",
   "execution_count": 7,
   "metadata": {},
   "outputs": [
    {
     "name": "stdout",
     "output_type": "stream",
     "text": [
      "Spis.scaffold5679|size932\t932\n",
      "Spis.scaffold5680|size932\t932\n",
      "Spis.scaffold5681|size931\t931\n",
      "Spis.scaffold5682|size929\t929\n",
      "Spis.scaffold5683|size925\t925\n",
      "Spis.scaffold5684|size925\t925\n",
      "Spis.scaffold5685|size915\t915\n",
      "Spis.scaffold5686|size909\t909\n",
      "Spis.scaffold5687|size895\t895\n",
      "Spis.scaffold5688|size891\t891\n"
     ]
    }
   ],
   "source": [
    "!awk '$0 ~ \">\" {print c; c=0;printf substr($0,2,100) \"\\t\"; } $0 !~ \">\" {c+=length($0);} END { print c; }' \\\n",
    "data/Spis.genome.scaffold.final.fa | tail\n"
   ]
  },
  {
   "cell_type": "code",
   "execution_count": 8,
   "metadata": {},
   "outputs": [],
   "source": [
    "!awk '!/^>/ { next } { getline seq } length(seq) >= 50000 { print $0 \"\\n\" seq }' \\\n",
    "data/Spis.genome.scaffold.final.fa \\\n",
    "> analyses/Spis.genome.50k.fasta"
   ]
  },
  {
   "cell_type": "code",
   "execution_count": null,
   "metadata": {},
   "outputs": [],
   "source": []
  }
 ],
 "metadata": {
  "kernelspec": {
   "display_name": "Python 3",
   "language": "python",
   "name": "python3"
  },
  "language_info": {
   "codemirror_mode": {
    "name": "ipython",
    "version": 3
   },
   "file_extension": ".py",
   "mimetype": "text/x-python",
   "name": "python",
   "nbconvert_exporter": "python",
   "pygments_lexer": "ipython3",
   "version": "3.6.8"
  }
 },
 "nbformat": 4,
 "nbformat_minor": 2
}
